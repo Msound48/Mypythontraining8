{
  "nbformat": 4,
  "nbformat_minor": 0,
  "metadata": {
    "colab": {
      "provenance": []
    },
    "kernelspec": {
      "name": "python3",
      "display_name": "Python 3"
    },
    "language_info": {
      "name": "python"
    }
  },
  "cells": [
    {
      "cell_type": "code",
      "execution_count": null,
      "metadata": {
        "id": "LynczderHEfx"
      },
      "outputs": [],
      "source": [
        "print(\"Hello World\")"
      ]
    },
    {
      "cell_type": "code",
      "source": [],
      "metadata": {
        "id": "BiWBFSkcZeq6"
      },
      "execution_count": null,
      "outputs": []
    },
    {
      "cell_type": "code",
      "source": [
        "# simple function\n",
        "\n",
        "def fun():\n",
        "  print(\"Hello world\")\n",
        "  print(\"welcome\")\n",
        "\n",
        "\n",
        "print(\"before function call\")\n",
        "fun()\n",
        "print(\"after function call\")\n"
      ],
      "metadata": {
        "id": "MBh5kn9LVoyV",
        "outputId": "cd4e29f4-569b-46c4-cbce-91d2dbcba2b8",
        "colab": {
          "base_uri": "https://localhost:8080/"
        }
      },
      "execution_count": 1,
      "outputs": [
        {
          "output_type": "stream",
          "name": "stdout",
          "text": [
            "before function call\n",
            "Hello world\n",
            "welcome\n",
            "after function call\n"
          ]
        }
      ]
    },
    {
      "cell_type": "code",
      "source": [
        "# program to print the square of no\n",
        "# without arguments , without return values\n",
        "def square():\n",
        "  x = int(input(\"enetr a no\"))\n",
        "  y = x**2\n",
        "  print(\"square of\",x,\"is\",y)\n",
        "\n",
        "square()"
      ],
      "metadata": {
        "id": "FAsNwlxOZCHV",
        "outputId": "4758c81f-7017-41e4-d1b2-ff6d389034d6",
        "colab": {
          "base_uri": "https://localhost:8080/"
        }
      },
      "execution_count": 2,
      "outputs": [
        {
          "output_type": "stream",
          "name": "stdout",
          "text": [
            "enetr a no2\n",
            "square of 2 is 4\n"
          ]
        }
      ]
    },
    {
      "cell_type": "code",
      "source": [
        " #with arguments , with return values\n",
        "\n",
        "def square(x):\n",
        "    #y = x**2\n",
        "    return x**2\n",
        "\n",
        "\n",
        "x = int(input(\"enetr a no\"))\n",
        "res = square(x)\n",
        "print(res)"
      ],
      "metadata": {
        "id": "oUubBp9vdJIB",
        "outputId": "d0606664-326a-40e0-e1ac-691f45105c11",
        "colab": {
          "base_uri": "https://localhost:8080/"
        }
      },
      "execution_count": 3,
      "outputs": [
        {
          "output_type": "stream",
          "name": "stdout",
          "text": [
            "enetr a no6\n",
            "36\n"
          ]
        }
      ]
    },
    {
      "cell_type": "code",
      "source": [
        "#with arguments , without return values\n",
        "def square(x):\n",
        "  y = x**2\n",
        "  print(\"square of\",x,\"is\",y)\n",
        "\n",
        "\n",
        "x = int(input(\"enetr a no\"))\n",
        "square(x)\n"
      ],
      "metadata": {
        "id": "_ukEx8_3d04P",
        "outputId": "5b34dc42-d1e2-48bc-c7eb-5c5f26420d59",
        "colab": {
          "base_uri": "https://localhost:8080/"
        }
      },
      "execution_count": 4,
      "outputs": [
        {
          "output_type": "stream",
          "name": "stdout",
          "text": [
            "enetr a no4\n",
            "square of 4 is 16\n"
          ]
        }
      ]
    },
    {
      "cell_type": "code",
      "source": [
        "#without args , with return values\n",
        "\n",
        "def square():\n",
        "  x = int(input(\"enetr a no\"))\n",
        "  y = x**2\n",
        "  return y\n",
        "\n",
        "res = square()\n",
        "print(res)"
      ],
      "metadata": {
        "id": "yeQplsX5d58J"
      },
      "execution_count": null,
      "outputs": []
    },
    {
      "cell_type": "code",
      "source": [
        "# return statement\n",
        "\n",
        "\n",
        "def test(a,b,c,d):\n",
        "\n",
        "  return a,b,c,d\n",
        "\n",
        "x,y = test(10,20,30,40)[1:3]\n",
        "\n",
        "print(x,y)\n",
        "print(type(x))"
      ],
      "metadata": {
        "id": "lMgOlMr3fJNG",
        "outputId": "9b786d16-913e-4022-950a-2919d24d0c44",
        "colab": {
          "base_uri": "https://localhost:8080/"
        }
      },
      "execution_count": 5,
      "outputs": [
        {
          "output_type": "stream",
          "name": "stdout",
          "text": [
            "20 30\n",
            "<class 'int'>\n"
          ]
        }
      ]
    },
    {
      "cell_type": "code",
      "source": [
        "# return\n",
        "\n",
        "def test1():\n",
        "  l1 = [10,20,30,40]\n",
        "  t1 = (60,70,80)\n",
        "  return l1,t1\n",
        "\n",
        "x = test1()\n",
        "print(x)\n",
        "print(type(x))\n",
        "\n"
      ],
      "metadata": {
        "id": "zF54_Kotg7g8",
        "outputId": "f69028c0-38ef-4c0c-ed9c-e7bd11fd150a",
        "colab": {
          "base_uri": "https://localhost:8080/"
        }
      },
      "execution_count": 6,
      "outputs": [
        {
          "output_type": "stream",
          "name": "stdout",
          "text": [
            "([10, 20, 30, 40], (60, 70, 80))\n",
            "<class 'tuple'>\n"
          ]
        }
      ]
    },
    {
      "cell_type": "code",
      "source": [
        "def func1(a,b,c,d):\n",
        "  return a,b,c,d\n",
        "\n",
        "a = func1(10,20,30,40)\n",
        "print(a,a)\n"
      ],
      "metadata": {
        "id": "RczUuvbMkRci",
        "outputId": "153d3454-0ae1-4713-dbb7-b1478fe44d03",
        "colab": {
          "base_uri": "https://localhost:8080/"
        }
      },
      "execution_count": 9,
      "outputs": [
        {
          "output_type": "stream",
          "name": "stdout",
          "text": [
            "(10, 20, 30, 40) (10, 20, 30, 40)\n"
          ]
        }
      ]
    },
    {
      "cell_type": "code",
      "source": [
        "_ = 10\n",
        "print(_)"
      ],
      "metadata": {
        "id": "0IKhUOXFmomZ",
        "outputId": "0a5f88d8-b01d-44e0-ca89-f6d47d93adc8",
        "colab": {
          "base_uri": "https://localhost:8080/"
        }
      },
      "execution_count": 10,
      "outputs": [
        {
          "output_type": "stream",
          "name": "stdout",
          "text": [
            "10\n"
          ]
        }
      ]
    },
    {
      "cell_type": "code",
      "source": [
        "#day 13\n",
        "\n",
        "# function calling another fn\n",
        "\n",
        "def test1():\n",
        "  print(\"i am insude test1\")\n",
        "  test2() # fn call\n",
        "  print(\"i am back to test1\")\n",
        "\n",
        "def test2():\n",
        "  print(\" I am in test2\")\n",
        "  print(\"going back\")\n",
        "\n",
        "test1()  # fn call\n",
        "print(\"end of program\")"
      ],
      "metadata": {
        "id": "jxiHTB7EAlg1",
        "outputId": "dcee54fc-c71b-4b7f-b551-9da2e84387f6",
        "colab": {
          "base_uri": "https://localhost:8080/"
        }
      },
      "execution_count": 12,
      "outputs": [
        {
          "output_type": "stream",
          "name": "stdout",
          "text": [
            "i am insude test1\n",
            " I am in test2\n",
            "going back\n",
            "i am back to test1\n",
            "end of program\n"
          ]
        }
      ]
    },
    {
      "cell_type": "code",
      "source": [
        "# LOcal Variable- lifetime\n",
        "\n",
        "def test():\n",
        "  x=10\n",
        "  x=x+1\n",
        "  print(x)\n",
        "\n",
        "test()\n",
        "test()\n",
        "test()"
      ],
      "metadata": {
        "id": "5bTQdgB6BmSf",
        "outputId": "d3427c1c-a046-4359-8e88-6c4d8b1ada96",
        "colab": {
          "base_uri": "https://localhost:8080/"
        }
      },
      "execution_count": 13,
      "outputs": [
        {
          "output_type": "stream",
          "name": "stdout",
          "text": [
            "11\n",
            "11\n",
            "11\n"
          ]
        }
      ]
    },
    {
      "cell_type": "code",
      "source": [
        "# LOcal Variable- scope\n",
        "\n",
        "def test():\n",
        "  x=10\n",
        "  x=x+1\n",
        "  print(x)\n",
        "\n",
        "test()\n",
        "#print(x) #error\n",
        "test()\n",
        "test()"
      ],
      "metadata": {
        "id": "60sasPL7Dt3y",
        "outputId": "61f657af-71f8-4466-fbaf-b2d226c1bb14",
        "colab": {
          "base_uri": "https://localhost:8080/"
        }
      },
      "execution_count": 17,
      "outputs": [
        {
          "output_type": "stream",
          "name": "stdout",
          "text": [
            "11\n",
            "11\n",
            "11\n"
          ]
        }
      ]
    },
    {
      "cell_type": "code",
      "source": [
        "# global variable\n",
        "\n",
        "n =10\n",
        "\n",
        "def fun():\n",
        "  print(n)\n",
        "\n",
        "fun()\n",
        "print(n)"
      ],
      "metadata": {
        "id": "b-8LZCR9EKrZ",
        "outputId": "e0e9d8e8-c8f4-4819-d550-a06060d269bc",
        "colab": {
          "base_uri": "https://localhost:8080/"
        }
      },
      "execution_count": 18,
      "outputs": [
        {
          "output_type": "stream",
          "name": "stdout",
          "text": [
            "10\n",
            "10\n"
          ]
        }
      ]
    },
    {
      "cell_type": "code",
      "source": [
        "# global variable\n",
        "\n",
        "n =10\n",
        "\n",
        "def fun():\n",
        "  n=5   # local varibale\n",
        "  print(n)\n",
        "\n",
        "fun()\n",
        "print(n)"
      ],
      "metadata": {
        "id": "PG3hS9hpEm13",
        "outputId": "1bcca55a-09c0-4974-ef9d-c7b471eb2059",
        "colab": {
          "base_uri": "https://localhost:8080/"
        }
      },
      "execution_count": 19,
      "outputs": [
        {
          "output_type": "stream",
          "name": "stdout",
          "text": [
            "5\n",
            "10\n"
          ]
        }
      ]
    },
    {
      "cell_type": "code",
      "source": [
        "# global variable\n",
        "\n",
        "n =10\n",
        "\n",
        "def fun():\n",
        "  global n # global keyword\n",
        "  n=n+1\n",
        "  print(n)\n",
        "\n",
        "def test():\n",
        "  global n\n",
        "  n= n+1\n",
        "  print(n)\n",
        "\n",
        "\n",
        "fun()\n",
        "test()\n",
        "print(n)"
      ],
      "metadata": {
        "id": "RrppPndcFEFs",
        "outputId": "2f9f5ccf-d625-437f-8b13-38b3aac51722",
        "colab": {
          "base_uri": "https://localhost:8080/"
        }
      },
      "execution_count": 20,
      "outputs": [
        {
          "output_type": "stream",
          "name": "stdout",
          "text": [
            "11\n",
            "12\n",
            "12\n"
          ]
        }
      ]
    },
    {
      "cell_type": "code",
      "source": [
        "# Function is also an object\n",
        "\n",
        "def test():\n",
        "  print(\"hello wrold\")\n",
        "\n",
        "i =10\n",
        "print(type(i))\n",
        "\n",
        "print(type(test))\n",
        "print(test)"
      ],
      "metadata": {
        "id": "Qa3z_godHgWh",
        "outputId": "3196fb8e-49a8-493c-ef06-410ce446c72d",
        "colab": {
          "base_uri": "https://localhost:8080/"
        }
      },
      "execution_count": 21,
      "outputs": [
        {
          "output_type": "stream",
          "name": "stdout",
          "text": [
            "<class 'int'>\n",
            "<class 'function'>\n",
            "<function test at 0x7ae6edcc79c0>\n"
          ]
        }
      ]
    },
    {
      "cell_type": "code",
      "source": [
        "def multiplier_factory(factor):\n",
        "\n",
        "  def multiplier(number):\n",
        "\n",
        "    return number * factor\n",
        "\n",
        "  # Return the nested function\n",
        "  return multiplier  # returning the inner function\n",
        "\n",
        "# Create a function that multiplies by 5\n",
        "multiply_by_5 = multiplier_factory(5)\n",
        "\n",
        "# Create a function that multiplies by 10\n",
        "multiply_by_10 = multiplier_factory(10)\n",
        "\n",
        "# Use the created functions\n",
        "result1 = multiply_by_5(8)\n",
        "result2 = multiply_by_10(4)\n",
        "\n",
        "print(f\"8 multiplied by 5 is: {result1}\")  # Output: 8 multiplied by 5 is: 40\n",
        "print(f\"4 multiplied by 10 is: {result2}\") # Output: 4 multiplied by 10 is: 40"
      ],
      "metadata": {
        "id": "kbb-1cV2IZE4",
        "outputId": "f52b7feb-685f-4b8c-c16d-f9323f144875",
        "colab": {
          "base_uri": "https://localhost:8080/"
        }
      },
      "execution_count": 22,
      "outputs": [
        {
          "output_type": "stream",
          "name": "stdout",
          "text": [
            "8 multiplied by 5 is: 40\n",
            "4 multiplied by 10 is: 40\n"
          ]
        }
      ]
    },
    {
      "cell_type": "code",
      "source": [
        "# alias name for a function\n",
        "\n",
        "def test1():\n",
        "  print(\"hello\")\n",
        "\n",
        "a = test1\n",
        "\n",
        "a()"
      ],
      "metadata": {
        "id": "tmnko_WPKYtp",
        "outputId": "c76c802f-6784-406f-ed81-2b11068abd57",
        "colab": {
          "base_uri": "https://localhost:8080/"
        }
      },
      "execution_count": 23,
      "outputs": [
        {
          "output_type": "stream",
          "name": "stdout",
          "text": [
            "hello\n"
          ]
        }
      ]
    },
    {
      "cell_type": "code",
      "source": [
        "# positional args or required ars\n",
        "\n",
        "def test(name, age, city):\n",
        "  print(\"my name is \", name , \" and my age is \", age,\" and basically from\",city)\n",
        "\n",
        "\n",
        "test(\"Ram\",25,\"Delhi\",)"
      ],
      "metadata": {
        "id": "u0VyjloJLomW",
        "outputId": "75bd609d-46c7-40d5-be7d-3455731e36fc",
        "colab": {
          "base_uri": "https://localhost:8080/"
        }
      },
      "execution_count": 24,
      "outputs": [
        {
          "output_type": "stream",
          "name": "stdout",
          "text": [
            "my name is  Ram  and my age is  25  and basically from Delhi\n"
          ]
        }
      ]
    },
    {
      "cell_type": "code",
      "source": [
        "# keyword args\n",
        "\n",
        "def test(name, age, city):\n",
        "  print(\"my name is \", name , \" and my age is \", age,\" and basically from\",city)\n",
        "\n",
        "\n",
        "test(age =25 , name =\"Ram\",city =\"Delhi\",)"
      ],
      "metadata": {
        "id": "uDxAGxA3Mlal",
        "outputId": "b6b3c935-c449-431d-a4db-8f6a141bfc35",
        "colab": {
          "base_uri": "https://localhost:8080/"
        }
      },
      "execution_count": 25,
      "outputs": [
        {
          "output_type": "stream",
          "name": "stdout",
          "text": [
            "my name is  Ram  and my age is  25  and basically from Delhi\n"
          ]
        }
      ]
    },
    {
      "cell_type": "code",
      "source": [
        "# keyword args and positional args\n",
        "\n",
        "def test(name, current_city,city,age):\n",
        "  print(\"my name is \", name , \" and my age is \", age,\" and basically from\",city,\"but currently i live in\",current_city)\n",
        "\n",
        "\n",
        "test(\"ram\",\"delhi\",age = 25, city=\"Blr\")\n",
        "\n",
        "# positional args ----> keyword args\n",
        "# keyword args should follow positional ars ,"
      ],
      "metadata": {
        "id": "19tyfsdxNBGM"
      },
      "execution_count": null,
      "outputs": []
    },
    {
      "cell_type": "code",
      "source": [
        "# default arguments\n",
        "\n",
        "def student(name , age , m1,m2,m3 ,college=\"UVCE\"):\n",
        "\n",
        "  print(name,age, m1,m2,m3,college)\n",
        "\n",
        "\n",
        "student(\"John\",25,90,80,70)\n",
        "student(\"Rose\",21,91,86,75,\"SSEC\")"
      ],
      "metadata": {
        "colab": {
          "base_uri": "https://localhost:8080/"
        },
        "id": "tm_31THXP_0r",
        "outputId": "47a7f3e3-2eff-4ada-9678-4119ef335118"
      },
      "execution_count": 26,
      "outputs": [
        {
          "output_type": "stream",
          "name": "stdout",
          "text": [
            "John 25 90 80 70 UVCE\n",
            "Rose 21 91 86 75 SSEC\n"
          ]
        }
      ]
    },
    {
      "cell_type": "code",
      "source": [
        "# positional agrs ----> keyword args -----> Default args\n",
        "\n",
        "def student(name , age , m1,m2,m3,college=\"UVCE\"):\n",
        "\n",
        "  print(name,age, m1,m2,m3,college)\n",
        "\n",
        "\n",
        "student(\"John\",age=21,m1=25,m2=90,m3=80, college= \"SS\")\n",
        "student(\"Rose\",21,91,86,75)"
      ],
      "metadata": {
        "id": "OgsZqe7jRETj"
      },
      "execution_count": null,
      "outputs": []
    },
    {
      "cell_type": "code",
      "source": [
        "# variable length args\n",
        "def fun(*a):\n",
        "  print(a)\n",
        "  print(type(a))\n",
        "\n",
        "fun(1,2)\n",
        "fun(1,2,3)\n",
        "fun(1,2,3,4)"
      ],
      "metadata": {
        "colab": {
          "base_uri": "https://localhost:8080/"
        },
        "id": "0vlZRYWPS68V",
        "outputId": "20cd25b3-c50a-4292-c9b9-e247810fbe69"
      },
      "execution_count": 27,
      "outputs": [
        {
          "output_type": "stream",
          "name": "stdout",
          "text": [
            "(1, 2)\n",
            "<class 'tuple'>\n",
            "(1, 2, 3)\n",
            "<class 'tuple'>\n",
            "(1, 2, 3, 4)\n",
            "<class 'tuple'>\n"
          ]
        }
      ]
    },
    {
      "cell_type": "code",
      "source": [
        "# variable length positional args\n",
        "def sum(*a):\n",
        "\n",
        "  s = 0\n",
        "  for i in a:\n",
        "    s = s+i\n",
        "  print(s)\n",
        "\n",
        "sum(1,2)\n",
        "sum(1,2,3)\n",
        "sum(1,2,3,4)\n",
        "\n"
      ],
      "metadata": {
        "id": "Ki0px8p4TsFj"
      },
      "execution_count": null,
      "outputs": []
    },
    {
      "cell_type": "code",
      "source": [
        "# variable length keyword args\n",
        "\n",
        "def addition(**a):\n",
        "\n",
        "  s=0\n",
        "  for n in a.values():\n",
        "    s= s+n\n",
        "  print(s)\n",
        "\n",
        "addition(a=10,b=20)  # values are packed as a dict\n",
        "addition(a=22,b=33,c=44)"
      ],
      "metadata": {
        "id": "m4wk1VucUY6R",
        "outputId": "96ce353b-2652-4caa-b29c-5df6acf00502",
        "colab": {
          "base_uri": "https://localhost:8080/"
        }
      },
      "execution_count": 28,
      "outputs": [
        {
          "output_type": "stream",
          "name": "stdout",
          "text": [
            "30\n",
            "99\n"
          ]
        }
      ]
    },
    {
      "cell_type": "code",
      "source": [
        "# variable length positional args and variable length keyword  args\n",
        "\n",
        "def add(*num,**nums ):\n",
        "  print(sum(num))\n",
        "  print(sum(nums.values()))\n",
        "\n",
        "add(10,20,30,40, n1=100,n2=200,n3=300)"
      ],
      "metadata": {
        "colab": {
          "base_uri": "https://localhost:8080/"
        },
        "id": "QdNRp6gmTSnr",
        "outputId": "0c596f94-cfac-4fd8-8887-d21bd80ceb13"
      },
      "execution_count": null,
      "outputs": [
        {
          "output_type": "stream",
          "name": "stdout",
          "text": [
            "100\n",
            "600\n"
          ]
        }
      ]
    },
    {
      "cell_type": "code",
      "source": [
        "#variable length positional args , keyword ars, default agrs\n",
        "\n",
        "def student(name,clas,*parents_name,age,school= \"UVCE\",**marks):\n",
        "  print('Name: ',name)\n",
        "  print('class: ',clas)\n",
        "  print('Parents: ', parents_name)\n",
        "  print('Age: ',age)\n",
        "  print('Marks: ',marks)\n",
        "  print('School: ',school)\n",
        "\n",
        "student('Ravi',5,'A','B',age=12,eng=90,maths=87,science=91)\n",
        "\n"
      ],
      "metadata": {
        "colab": {
          "base_uri": "https://localhost:8080/"
        },
        "id": "LzwuTf2UXJHt",
        "outputId": "426a5e8e-0046-4b68-e904-366d4fcba30d"
      },
      "execution_count": null,
      "outputs": [
        {
          "output_type": "stream",
          "name": "stdout",
          "text": [
            "Name:  Ravi\n",
            "class:  5\n",
            "Parents:  ('A', 'B')\n",
            "Age:  12\n",
            "Marks:  {'eng': 90, 'maths': 87, 'science': 91}\n",
            "School:  UVCE\n"
          ]
        }
      ]
    },
    {
      "cell_type": "code",
      "source": [
        "#lambda function return single value\n",
        "\n",
        "var = lambda x,y,z : x+y+z\n",
        "print(var(10,20,30))"
      ],
      "metadata": {
        "colab": {
          "base_uri": "https://localhost:8080/"
        },
        "id": "3YrLWf20cDpp",
        "outputId": "d4a75c1b-91b4-42c0-fa97-ec884f7e7ed2"
      },
      "execution_count": null,
      "outputs": [
        {
          "output_type": "stream",
          "name": "stdout",
          "text": [
            "60\n"
          ]
        }
      ]
    },
    {
      "cell_type": "code",
      "source": [
        "add =lambda x,y : [x+y , x-y]\n",
        "print( type(add(2,3)))\n",
        "print( add(2,3))"
      ],
      "metadata": {
        "colab": {
          "base_uri": "https://localhost:8080/"
        },
        "id": "DunOwRPLckCd",
        "outputId": "a53213d1-2cbd-4f60-8215-eb42839c2e8a"
      },
      "execution_count": null,
      "outputs": [
        {
          "output_type": "stream",
          "name": "stdout",
          "text": [
            "<class 'list'>\n",
            "[5, -1]\n"
          ]
        }
      ]
    },
    {
      "cell_type": "code",
      "source": [
        "a= lambda: print(\"hello\")\n",
        "print(a())"
      ],
      "metadata": {
        "colab": {
          "base_uri": "https://localhost:8080/"
        },
        "id": "veynkrGIdX20",
        "outputId": "c7456845-8f91-45d3-b8ca-3f0e30b2b12b"
      },
      "execution_count": null,
      "outputs": [
        {
          "output_type": "stream",
          "name": "stdout",
          "text": [
            "hello\n",
            "None\n"
          ]
        }
      ]
    },
    {
      "cell_type": "code",
      "source": [
        "# using default agrs\n",
        "add = lambda x, y=1 : x+y\n",
        "\n",
        "print(add(4))"
      ],
      "metadata": {
        "colab": {
          "base_uri": "https://localhost:8080/"
        },
        "id": "0vX0NVo0dv_l",
        "outputId": "a638c98b-2ec7-44b2-9724-ffe7cf7d10f7"
      },
      "execution_count": 29,
      "outputs": [
        {
          "output_type": "stream",
          "name": "stdout",
          "text": [
            "5\n"
          ]
        }
      ]
    },
    {
      "cell_type": "code",
      "source": [
        "# using key word args\n",
        "add = lambda x, y : x+y\n",
        "print(add(x=5,y=6))"
      ],
      "metadata": {
        "colab": {
          "base_uri": "https://localhost:8080/"
        },
        "id": "4p5DYCQPd-iZ",
        "outputId": "12ccfe2d-b6ec-44c2-b53f-6f35d87fa809"
      },
      "execution_count": null,
      "outputs": [
        {
          "output_type": "stream",
          "name": "stdout",
          "text": [
            "11\n"
          ]
        }
      ]
    },
    {
      "cell_type": "code",
      "source": [
        "# using var lenghth args\n",
        "add = lambda *x: sum(x)\n",
        "print(add(1,2,3,4,5))"
      ],
      "metadata": {
        "colab": {
          "base_uri": "https://localhost:8080/"
        },
        "id": "oqzaV6YbeL-S",
        "outputId": "db143947-f4fc-42e0-8043-474ba0503272"
      },
      "execution_count": null,
      "outputs": [
        {
          "output_type": "stream",
          "name": "stdout",
          "text": [
            "15\n"
          ]
        }
      ]
    },
    {
      "cell_type": "code",
      "source": [
        "area = lambda r: 3.14*r*r\n",
        "print(area(5))\n"
      ],
      "metadata": {
        "colab": {
          "base_uri": "https://localhost:8080/"
        },
        "id": "TGfdGyy_esfA",
        "outputId": "ccf6dab1-ddcc-4e37-abbc-487c9996bc7d"
      },
      "execution_count": 30,
      "outputs": [
        {
          "output_type": "stream",
          "name": "stdout",
          "text": [
            "78.5\n"
          ]
        }
      ]
    },
    {
      "cell_type": "code",
      "source": [
        "# class and Objects\n",
        "\n",
        "class Calculator:\n",
        "  n1=0    # attributes\n",
        "  n2=0\n",
        "  res = 0\n",
        "\n",
        "  def __init__(self,n1,n2):  # methods\n",
        "    self.n1=0\n",
        "    self.n2=0\n",
        "    self.res=0\n",
        "\n",
        "  def add(self , n1,n2):\n",
        "    pass\n",
        "\n",
        "  def sub(self , n1,n2):\n",
        "    pass\n",
        "\n",
        "  def mul(self , n1,n2):\n",
        "    pass\n",
        "\n",
        "  def div(self , n1,n2):\n",
        "    pass\n",
        "\n",
        "\n",
        "\n",
        "ob1 = Calculator(10,20) # obj1 creation\n",
        "ob2 = Calculator(100,200) # obj2 creation"
      ],
      "metadata": {
        "id": "12ag4DICkyha"
      },
      "execution_count": 1,
      "outputs": []
    }
  ]
}